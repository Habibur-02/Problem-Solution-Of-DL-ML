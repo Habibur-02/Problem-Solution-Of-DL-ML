{
 "cells": [
  {
   "cell_type": "code",
   "execution_count": null,
   "id": "b63cff06",
   "metadata": {},
   "outputs": [
    {
     "name": "stdout",
     "output_type": "stream",
     "text": [
      "0\n",
      "1\n",
      "2\n",
      "3\n",
      "4\n",
      "5\n",
      "6\n",
      "7\n",
      "8\n",
      "9\n"
     ]
    }
   ],
   "source": [
    "# Implement a function to generate train and test splits for K-Fold Cross-Validation. \n",
    "# Your task is to divide the dataset into k folds and \n",
    "# return a list of train-test indices for each fold.\n",
    "\n",
    "# k_fold_cross_validation(np.array([0,1,2,3,4,5,6,7,8,9]), \n",
    "# np.array([0,1,2,3,4,5,6,7,8,9]), k=5, shuffle=False)\n",
    "import numpy as np\n",
    "x=np.array([0,1,2,3,4,5,6,7,8,9])\n",
    "y=np.array([0,1,2,3,4,5,6,7,8,9])\n",
    "k=5\n",
    "type(x)\n",
    "\n",
    "# for i in x:\n",
    "#     print(i)\n",
    "\n",
    "loop= len(x)/k\n",
    "\n",
    "for i in range(1,k+1):\n",
    "    \n",
    "\n"
   ]
  },
  {
   "cell_type": "code",
   "execution_count": null,
   "id": "217a62d7",
   "metadata": {},
   "outputs": [
    {
     "name": "stdout",
     "output_type": "stream",
     "text": [
      "5 6 7 8 9 \n",
      "0 1 2 3 4 \n",
      "0 1 2 3 4 \n",
      "5 6 7 8 9 \n"
     ]
    }
   ],
   "source": [
    "x = [0, 1, 2, 3, 4, 5, 6, 7, 8, 9]\n",
    "ret = []\n",
    "k = 2\n",
    "lim = len(x) // k\n",
    "\n",
    "for i in range(k):\n",
    "    fold = i + 1\n",
    "    idx = fold * lim - lim\n",
    "\n",
    "    v1 = []\n",
    "    v2 = []\n",
    "\n",
    "    for p in range(len(x)):\n",
    "        if idx <= p <= idx + lim - 1:\n",
    "            v2.append(x[p])  # Just append once\n",
    "        else:\n",
    "            v1.append(x[p])\n",
    "\n",
    "    ret.append((v1, v2))\n",
    "\n",
    "# Print the result\n",
    "for i in range(len(ret)):\n",
    "    for f in ret[i][0]:\n",
    "        print(f, end=\" \")\n",
    "    print()\n",
    "    for q in ret[i][1]:\n",
    "        print(q, end=\" \")\n",
    "    print()\n",
    "print(\"Vul asche answer\")\n"
   ]
  }
 ],
 "metadata": {
  "kernelspec": {
   "display_name": "Python 3",
   "language": "python",
   "name": "python3"
  },
  "language_info": {
   "codemirror_mode": {
    "name": "ipython",
    "version": 3
   },
   "file_extension": ".py",
   "mimetype": "text/x-python",
   "name": "python",
   "nbconvert_exporter": "python",
   "pygments_lexer": "ipython3",
   "version": "3.12.9"
  }
 },
 "nbformat": 4,
 "nbformat_minor": 5
}
